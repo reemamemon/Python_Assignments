{
  "nbformat": 4,
  "nbformat_minor": 0,
  "metadata": {
    "colab": {
      "provenance": [],
      "collapsed_sections": [
        "CxZHPwAxQ1pb",
        "jJk9w7s3P1Cp"
      ],
      "authorship_tag": "ABX9TyOtlP6g4HyLJ6UEK8WfrpvV",
      "include_colab_link": true
    },
    "kernelspec": {
      "name": "python3",
      "display_name": "Python 3"
    },
    "language_info": {
      "name": "python"
    }
  },
  "cells": [
    {
      "cell_type": "markdown",
      "metadata": {
        "id": "view-in-github",
        "colab_type": "text"
      },
      "source": [
        "<a href=\"https://colab.research.google.com/github/reemamemon/Python_Assignments/blob/main/Assignments_ReemaMemon.ipynb\" target=\"_parent\"><img src=\"https://colab.research.google.com/assets/colab-badge.svg\" alt=\"Open In Colab\"/></a>"
      ]
    },
    {
      "cell_type": "markdown",
      "source": [
        "# Assignment_01"
      ],
      "metadata": {
        "id": "CxZHPwAxQ1pb"
      }
    },
    {
      "cell_type": "markdown",
      "source": [
        "**Q1:** Write a Python program to print \"Hello, World!\"."
      ],
      "metadata": {
        "id": "-P2EAb3sQxp4"
      }
    },
    {
      "cell_type": "code",
      "source": [
        "print(\"Hello, World!\")"
      ],
      "metadata": {
        "colab": {
          "base_uri": "https://localhost:8080/"
        },
        "id": "JABm9VfEQd07",
        "outputId": "78b52dd0-f55d-465b-b418-8c00f51e7e20"
      },
      "execution_count": null,
      "outputs": [
        {
          "output_type": "stream",
          "name": "stdout",
          "text": [
            "Hello, World!\n"
          ]
        }
      ]
    },
    {
      "cell_type": "markdown",
      "source": [
        "**Q2:** Declare a variable **name** and assign your name to it. Print the value of the variable."
      ],
      "metadata": {
        "id": "6ymnHXwvRNEr"
      }
    },
    {
      "cell_type": "code",
      "source": [
        "#Variable Declare\n",
        "name = 'Reema'\n",
        "print(name)"
      ],
      "metadata": {
        "colab": {
          "base_uri": "https://localhost:8080/"
        },
        "id": "_Rh9MSYFRHwK",
        "outputId": "58a1bf6e-79e4-4f50-bf6e-4374879732ea"
      },
      "execution_count": null,
      "outputs": [
        {
          "output_type": "stream",
          "name": "stdout",
          "text": [
            "Reema\n"
          ]
        }
      ]
    },
    {
      "cell_type": "markdown",
      "source": [
        "**Q3:** Declare variables using **camelCase, snake_case, and PascalCase.** Assign values to them and print each variable."
      ],
      "metadata": {
        "id": "3v9nDSJXRiDe"
      }
    },
    {
      "cell_type": "code",
      "source": [
        "#camelCase\n",
        "fullName = \"Reema Memon\"\n",
        "print(fullName)\n",
        "\n",
        "#snake_case\n",
        "highest_education = \"BE\"\n",
        "print(highest_education)\n",
        "\n",
        "#PascalCase\n",
        "CourseEnrolled = \"Python\"\n",
        "print(CourseEnrolled)"
      ],
      "metadata": {
        "colab": {
          "base_uri": "https://localhost:8080/"
        },
        "id": "ogvfB4tVRcwQ",
        "outputId": "b2df38ce-9761-4736-ca19-750a813d5a61"
      },
      "execution_count": null,
      "outputs": [
        {
          "output_type": "stream",
          "name": "stdout",
          "text": [
            "Reema Memon\n",
            "BE\n",
            "Python\n"
          ]
        }
      ]
    },
    {
      "cell_type": "markdown",
      "source": [
        "**Q4:** Write a Python program that declares a variable and prints its memory address using the **id() function.**"
      ],
      "metadata": {
        "id": "1jB_ygmsToGl"
      }
    },
    {
      "cell_type": "code",
      "source": [
        "#Declare Variables\n",
        "fullName = \"Reema Memon\"\n",
        "highest_education = \"BE\"\n",
        "CourseEnrolled = \"Python\"\n",
        "\n",
        "#Print Memory Address\n",
        "print(id(fullName))\n",
        "print(id(highest_education))\n",
        "print(id(CourseEnrolled))\n"
      ],
      "metadata": {
        "colab": {
          "base_uri": "https://localhost:8080/"
        },
        "id": "SNfLgMZsSfey",
        "outputId": "99782fcb-a805-431d-cddb-ca903e619384"
      },
      "execution_count": null,
      "outputs": [
        {
          "output_type": "stream",
          "name": "stdout",
          "text": [
            "139883543144752\n",
            "139883543147632\n",
            "139884250297712\n"
          ]
        }
      ]
    },
    {
      "cell_type": "markdown",
      "source": [
        "**Q5:** Write a Python program that takes **user input** and prints it.\n"
      ],
      "metadata": {
        "id": "BscHvbnbUzL6"
      }
    },
    {
      "cell_type": "code",
      "source": [
        "name = input(\"Which is your favorite food? \")\n",
        "\n",
        "print(name)"
      ],
      "metadata": {
        "colab": {
          "base_uri": "https://localhost:8080/"
        },
        "id": "m9mhp9yXUDxe",
        "outputId": "960faafb-e9e6-4b8e-940e-2ef3f9d1da5d"
      },
      "execution_count": null,
      "outputs": [
        {
          "output_type": "stream",
          "name": "stdout",
          "text": [
            "Which is your favorite food? Fry Fish\n",
            "Fry Fish\n"
          ]
        }
      ]
    },
    {
      "cell_type": "markdown",
      "source": [
        "**Q6:** Write a Python program to display the data types of different variables **(e.g., integer, float, string).**\n"
      ],
      "metadata": {
        "id": "lBlFTyGjVs9r"
      }
    },
    {
      "cell_type": "code",
      "source": [
        "# Declare variables of different data types\n",
        "x = 10  # integer\n",
        "y = 3.14  # float\n",
        "z = \"Reema\"  # string\n",
        "t = True  # boolean\n",
        "\n",
        "# Print the data type of each variable\n",
        "print(f\"Type of x: {type(x)}\")\n",
        "print(f\"Type of y: {type(y)}\")\n",
        "print(f\"Type of z: {type(z)}\")\n",
        "print(f\"Type of t: {type(t)}\")\n"
      ],
      "metadata": {
        "colab": {
          "base_uri": "https://localhost:8080/"
        },
        "id": "f0LO1WUmVDgr",
        "outputId": "d6fa0ec2-84a8-4116-e003-39dfb0992f55"
      },
      "execution_count": null,
      "outputs": [
        {
          "output_type": "stream",
          "name": "stdout",
          "text": [
            "Type of x: <class 'int'>\n",
            "Type of y: <class 'float'>\n",
            "Type of z: <class 'str'>\n",
            "Type of t: <class 'bool'>\n"
          ]
        }
      ]
    },
    {
      "cell_type": "markdown",
      "source": [
        "**Q7:** Write a Python program that takes two numbers as input and performs addition and subtraction. Display the results.\n"
      ],
      "metadata": {
        "id": "j2kp3dbjWT9I"
      }
    },
    {
      "cell_type": "code",
      "source": [
        "#user input\n",
        "a = int(input(\"Enter a number: \"))\n",
        "b = int(input(\"Enter another number: \"))\n",
        "\n",
        "#perform addition and subtraction\n",
        "addition = a + b\n",
        "subtraction = a - b\n",
        "\n",
        "#Display results\n",
        "print(\"Addition:\", addition)\n",
        "print(\"Subtraction:\", subtraction)"
      ],
      "metadata": {
        "colab": {
          "base_uri": "https://localhost:8080/"
        },
        "id": "bdML_-llWFwK",
        "outputId": "9afc06b3-88a1-4934-e0a8-3c14751aae15"
      },
      "execution_count": null,
      "outputs": [
        {
          "output_type": "stream",
          "name": "stdout",
          "text": [
            "Enter a number: 10\n",
            "Enter another number: 6\n",
            "Addition: 16\n",
            "Subtraction: 4\n"
          ]
        }
      ]
    },
    {
      "cell_type": "markdown",
      "source": [
        "**Q8:** Write a Python program to demonstrate operator precedence. Use addition, subtraction, multiplication, and division in a single expression and show the result. (5 + 3 * 2 - 4 / 2)\n"
      ],
      "metadata": {
        "id": "VjqiD_f9W-rY"
      }
    },
    {
      "cell_type": "code",
      "source": [
        "operator_precedence = (5 + 3 * 2 - 4 / 2)\n",
        "print(operator_precedence)"
      ],
      "metadata": {
        "colab": {
          "base_uri": "https://localhost:8080/"
        },
        "id": "2a4Tmv1xWmXE",
        "outputId": "4933fa14-5a96-4ca7-c07f-5aa135ddec85"
      },
      "execution_count": null,
      "outputs": [
        {
          "output_type": "stream",
          "name": "stdout",
          "text": [
            "9.0\n"
          ]
        }
      ]
    },
    {
      "cell_type": "markdown",
      "source": [
        "**Q9:** Write a  Python program to calculate the area of a rectangle based on user input for its length and width.\n",
        "Hint:  Take input from the user to enter the length of the rectangle.\n",
        "Take input from the user to enter the width of the rectangle.\n",
        "Area=length×width\n"
      ],
      "metadata": {
        "id": "BSLYZz-fXgMf"
      }
    },
    {
      "cell_type": "code",
      "source": [
        "#user input\n",
        "length = float(input(\"Enter the length of the rectangle: \"))\n",
        "width = float(input(\"Enter the width of the rectangle: \"))\n",
        "\n",
        "#calculate area\n",
        "area = length * width\n",
        "print(\"Area of the rectangle:\", area)"
      ],
      "metadata": {
        "colab": {
          "base_uri": "https://localhost:8080/"
        },
        "id": "2HXgXhB0XWCM",
        "outputId": "c7197306-f629-4327-fa8b-1d6af3886ba8"
      },
      "execution_count": null,
      "outputs": [
        {
          "output_type": "stream",
          "name": "stdout",
          "text": [
            "Enter the length of the rectangle: 9\n",
            "Enter the width of the rectangle: 10\n",
            "Area of the rectangle: 90.0\n"
          ]
        }
      ]
    },
    {
      "cell_type": "markdown",
      "source": [
        "**Q10:** Write a Python program that performs the following steps:\n",
        "Define a string vowels containing all lowercase vowels ('aeiou').\n",
        "Take input from the user to enter a letter (lowercase). Check if the entered letter is 'a' using membership operators (in or not in). Print True if the entered letter is 'a', otherwise, print False.\n"
      ],
      "metadata": {
        "id": "f2blK4sSYFNp"
      }
    },
    {
      "cell_type": "code",
      "source": [
        "#vowels string\n",
        "vowels = ('aeiou')\n",
        "\n",
        "#user input\n",
        "user_input = input(\"Enter a letter: \")\n",
        "\n",
        "#check if the entered letter is 'a' using membership operators\n",
        "if user_input in vowels:\n",
        "    print(\"True\")\n",
        "else:\n",
        "    print(\"False\")"
      ],
      "metadata": {
        "colab": {
          "base_uri": "https://localhost:8080/"
        },
        "id": "QA8_Ro7YX12u",
        "outputId": "579f2e56-554b-4af6-b39b-503cd04a9e27"
      },
      "execution_count": null,
      "outputs": [
        {
          "output_type": "stream",
          "name": "stdout",
          "text": [
            "Enter a letter: a\n",
            "True\n"
          ]
        }
      ]
    },
    {
      "cell_type": "markdown",
      "source": [
        "# Assignment_02\n",
        "**Topic: Bitwise Operators**\n",
        "\n",
        "\n"
      ],
      "metadata": {
        "id": "jJk9w7s3P1Cp"
      }
    },
    {
      "cell_type": "markdown",
      "source": [
        "**AND Operation Problem:**\n",
        "Calculate the result of the bitwise AND operation on the numbers 25 and 30.\n"
      ],
      "metadata": {
        "id": "U4VgrTMIQ1uw"
      }
    },
    {
      "cell_type": "code",
      "source": [
        "a = 25  # 11001\n",
        "b = 30  # 11110\n",
        "\n",
        "# Bitwise AND\n",
        "result = a & b\n",
        "\n",
        "# Print the result\n",
        "print(result)"
      ],
      "metadata": {
        "colab": {
          "base_uri": "https://localhost:8080/"
        },
        "id": "grQpU8sNRNHq",
        "outputId": "d0a0f24d-7311-4894-84e5-e0efea1f3bed"
      },
      "execution_count": null,
      "outputs": [
        {
          "output_type": "stream",
          "name": "stdout",
          "text": [
            "24\n"
          ]
        }
      ]
    },
    {
      "cell_type": "markdown",
      "source": [
        "**OR Operation Problem:**\n",
        "Calculate the result of the bitwise OR operation on the numbers 45 and 25.\n"
      ],
      "metadata": {
        "id": "8e_Vw7rAR2Q6"
      }
    },
    {
      "cell_type": "code",
      "source": [
        "a = 45  # 101101\n",
        "b = 25  # 011001\n",
        "\n",
        "# Bitwise OR\n",
        "result = a | b\n",
        "\n",
        "# Print the result\n",
        "print(result)"
      ],
      "metadata": {
        "colab": {
          "base_uri": "https://localhost:8080/"
        },
        "id": "1ohMNMFVRmBy",
        "outputId": "92de6da2-893d-4dec-d720-8c2be239b079"
      },
      "execution_count": null,
      "outputs": [
        {
          "output_type": "stream",
          "name": "stdout",
          "text": [
            "61\n"
          ]
        }
      ]
    },
    {
      "cell_type": "markdown",
      "source": [
        "**XOR Operation Problem:**\n",
        "Calculate the result of the bitwise XOR operation on the numbers 29 and 15.\n"
      ],
      "metadata": {
        "id": "P2racezCThll"
      }
    },
    {
      "cell_type": "code",
      "source": [
        "a = 29  # 11101\n",
        "b = 15 #  01111\n",
        "\n",
        "# Bitwise OR\n",
        "result = a ^ b\n",
        "\n",
        "# Print the result\n",
        "print(result)"
      ],
      "metadata": {
        "colab": {
          "base_uri": "https://localhost:8080/"
        },
        "id": "K0f_9Wt0TayP",
        "outputId": "c4c37231-7973-47c2-81e5-9c9840805fd6"
      },
      "execution_count": null,
      "outputs": [
        {
          "output_type": "stream",
          "name": "stdout",
          "text": [
            "18\n"
          ]
        }
      ]
    },
    {
      "cell_type": "markdown",
      "source": [
        "**NOT Operation Problem:**\n",
        "Calculate the result of the bitwise NOT operation on the number 42.\n"
      ],
      "metadata": {
        "id": "wuohaOyRVSDB"
      }
    },
    {
      "cell_type": "code",
      "source": [
        "a = 42 # 101010\n",
        "\n",
        "# Bitwise NOT\n",
        "result = ~a\n",
        "\n",
        "# Print the result\n",
        "print (result)"
      ],
      "metadata": {
        "colab": {
          "base_uri": "https://localhost:8080/"
        },
        "id": "1g7JqmzKT87G",
        "outputId": "e95afcfa-dfdc-4806-8818-93a342ea8005"
      },
      "execution_count": null,
      "outputs": [
        {
          "output_type": "stream",
          "name": "stdout",
          "text": [
            "-43\n"
          ]
        }
      ]
    },
    {
      "cell_type": "markdown",
      "source": [
        "**Shift Operations Problem:**\n",
        "\n",
        "1.   Calculate the result of left shifting the number 15 by 3 positions.\n",
        "2.   Calculate the result of right shifting the number 200 by 4 positions.\n"
      ],
      "metadata": {
        "id": "dlkdkVyBWhCV"
      }
    },
    {
      "cell_type": "code",
      "source": [
        "a = 15  # 00001111\n",
        "result1 = a << 3\n",
        "print(result1)\n",
        "\n",
        "b = 200 # 11110000\n",
        "result2 = b >> 4\n",
        "print(result2)"
      ],
      "metadata": {
        "colab": {
          "base_uri": "https://localhost:8080/"
        },
        "id": "lIIpCjz6Vhk7",
        "outputId": "f588a865-d0e7-4392-c44b-d3afdcd18a2f"
      },
      "execution_count": null,
      "outputs": [
        {
          "output_type": "stream",
          "name": "stdout",
          "text": [
            "120\n",
            "12\n"
          ]
        }
      ]
    }
  ]
}